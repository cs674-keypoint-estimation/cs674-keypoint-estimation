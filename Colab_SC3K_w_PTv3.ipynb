{
  "nbformat": 4,
  "nbformat_minor": 0,
  "metadata": {
    "colab": {
      "provenance": [],
      "gpuType": "L4",
      "machine_shape": "hm"
    },
    "kernelspec": {
      "name": "python3",
      "display_name": "Python 3"
    },
    "language_info": {
      "name": "python"
    },
    "accelerator": "GPU"
  },
  "cells": [
    {
      "cell_type": "markdown",
      "source": [
        "###Install Requirements\n",
        "NOTE: Installing open3d causes the kernel to restart, so I've placed it first. Run it this cell twice due to the restart issue."
      ],
      "metadata": {
        "id": "1_-TJMyGLhzr"
      }
    },
    {
      "cell_type": "code",
      "source": [
        "!pip install open3d\n",
        "!pip install hydra-core\n",
        "!pip install einops\n",
        "!pip install spconv-cu120\n",
        "!pip install timm\n",
        "!pip install torch-scatter -f https://data.pyg.org/whl/torch-2.2.0+cu121.html\n",
        "!pip install flash-attn --no-build-isolation"
      ],
      "metadata": {
        "colab": {
          "base_uri": "https://localhost:8080/"
        },
        "id": "8qC1FSBkKWLo",
        "outputId": "ea9893ac-59a1-439b-d02c-e0bab059ffa8"
      },
      "execution_count": null,
      "outputs": [
        {
          "output_type": "stream",
          "name": "stdout",
          "text": [
            "Requirement already satisfied: open3d in /usr/local/lib/python3.10/dist-packages (0.18.0)\n",
            "Requirement already satisfied: numpy>=1.18.0 in /usr/local/lib/python3.10/dist-packages (from open3d) (1.25.2)\n",
            "Requirement already satisfied: dash>=2.6.0 in /usr/local/lib/python3.10/dist-packages (from open3d) (2.17.0)\n",
            "Requirement already satisfied: werkzeug>=2.2.3 in /usr/local/lib/python3.10/dist-packages (from open3d) (3.0.3)\n",
            "Requirement already satisfied: nbformat>=5.7.0 in /usr/local/lib/python3.10/dist-packages (from open3d) (5.10.4)\n",
            "Requirement already satisfied: configargparse in /usr/local/lib/python3.10/dist-packages (from open3d) (1.7)\n",
            "Requirement already satisfied: ipywidgets>=8.0.4 in /usr/local/lib/python3.10/dist-packages (from open3d) (8.1.2)\n",
            "Requirement already satisfied: addict in /usr/local/lib/python3.10/dist-packages (from open3d) (2.4.0)\n",
            "Requirement already satisfied: pillow>=9.3.0 in /usr/local/lib/python3.10/dist-packages (from open3d) (9.4.0)\n",
            "Requirement already satisfied: matplotlib>=3 in /usr/local/lib/python3.10/dist-packages (from open3d) (3.7.1)\n",
            "Requirement already satisfied: pandas>=1.0 in /usr/local/lib/python3.10/dist-packages (from open3d) (2.0.3)\n",
            "Requirement already satisfied: pyyaml>=5.4.1 in /usr/local/lib/python3.10/dist-packages (from open3d) (6.0.1)\n",
            "Requirement already satisfied: scikit-learn>=0.21 in /usr/local/lib/python3.10/dist-packages (from open3d) (1.2.2)\n",
            "Requirement already satisfied: tqdm in /usr/local/lib/python3.10/dist-packages (from open3d) (4.66.4)\n",
            "Requirement already satisfied: pyquaternion in /usr/local/lib/python3.10/dist-packages (from open3d) (0.9.9)\n",
            "Requirement already satisfied: Flask<3.1,>=1.0.4 in /usr/local/lib/python3.10/dist-packages (from dash>=2.6.0->open3d) (2.2.5)\n",
            "Requirement already satisfied: plotly>=5.0.0 in /usr/local/lib/python3.10/dist-packages (from dash>=2.6.0->open3d) (5.15.0)\n",
            "Requirement already satisfied: dash-html-components==2.0.0 in /usr/local/lib/python3.10/dist-packages (from dash>=2.6.0->open3d) (2.0.0)\n",
            "Requirement already satisfied: dash-core-components==2.0.0 in /usr/local/lib/python3.10/dist-packages (from dash>=2.6.0->open3d) (2.0.0)\n",
            "Requirement already satisfied: dash-table==5.0.0 in /usr/local/lib/python3.10/dist-packages (from dash>=2.6.0->open3d) (5.0.0)\n",
            "Requirement already satisfied: importlib-metadata in /usr/local/lib/python3.10/dist-packages (from dash>=2.6.0->open3d) (7.1.0)\n",
            "Requirement already satisfied: typing-extensions>=4.1.1 in /usr/local/lib/python3.10/dist-packages (from dash>=2.6.0->open3d) (4.11.0)\n",
            "Requirement already satisfied: requests in /usr/local/lib/python3.10/dist-packages (from dash>=2.6.0->open3d) (2.31.0)\n",
            "Requirement already satisfied: retrying in /usr/local/lib/python3.10/dist-packages (from dash>=2.6.0->open3d) (1.3.4)\n",
            "Requirement already satisfied: nest-asyncio in /usr/local/lib/python3.10/dist-packages (from dash>=2.6.0->open3d) (1.6.0)\n",
            "Requirement already satisfied: setuptools in /usr/local/lib/python3.10/dist-packages (from dash>=2.6.0->open3d) (67.7.2)\n",
            "Requirement already satisfied: comm>=0.1.3 in /usr/local/lib/python3.10/dist-packages (from ipywidgets>=8.0.4->open3d) (0.2.2)\n",
            "Requirement already satisfied: ipython>=6.1.0 in /usr/local/lib/python3.10/dist-packages (from ipywidgets>=8.0.4->open3d) (7.34.0)\n",
            "Requirement already satisfied: traitlets>=4.3.1 in /usr/local/lib/python3.10/dist-packages (from ipywidgets>=8.0.4->open3d) (5.7.1)\n",
            "Requirement already satisfied: widgetsnbextension~=4.0.10 in /usr/local/lib/python3.10/dist-packages (from ipywidgets>=8.0.4->open3d) (4.0.10)\n",
            "Requirement already satisfied: jupyterlab-widgets~=3.0.10 in /usr/local/lib/python3.10/dist-packages (from ipywidgets>=8.0.4->open3d) (3.0.10)\n",
            "Requirement already satisfied: contourpy>=1.0.1 in /usr/local/lib/python3.10/dist-packages (from matplotlib>=3->open3d) (1.2.1)\n",
            "Requirement already satisfied: cycler>=0.10 in /usr/local/lib/python3.10/dist-packages (from matplotlib>=3->open3d) (0.12.1)\n",
            "Requirement already satisfied: fonttools>=4.22.0 in /usr/local/lib/python3.10/dist-packages (from matplotlib>=3->open3d) (4.51.0)\n",
            "Requirement already satisfied: kiwisolver>=1.0.1 in /usr/local/lib/python3.10/dist-packages (from matplotlib>=3->open3d) (1.4.5)\n",
            "Requirement already satisfied: packaging>=20.0 in /usr/local/lib/python3.10/dist-packages (from matplotlib>=3->open3d) (24.0)\n",
            "Requirement already satisfied: pyparsing>=2.3.1 in /usr/local/lib/python3.10/dist-packages (from matplotlib>=3->open3d) (3.1.2)\n",
            "Requirement already satisfied: python-dateutil>=2.7 in /usr/local/lib/python3.10/dist-packages (from matplotlib>=3->open3d) (2.8.2)\n",
            "Requirement already satisfied: fastjsonschema>=2.15 in /usr/local/lib/python3.10/dist-packages (from nbformat>=5.7.0->open3d) (2.19.1)\n",
            "Requirement already satisfied: jsonschema>=2.6 in /usr/local/lib/python3.10/dist-packages (from nbformat>=5.7.0->open3d) (4.19.2)\n",
            "Requirement already satisfied: jupyter-core!=5.0.*,>=4.12 in /usr/local/lib/python3.10/dist-packages (from nbformat>=5.7.0->open3d) (5.7.2)\n",
            "Requirement already satisfied: pytz>=2020.1 in /usr/local/lib/python3.10/dist-packages (from pandas>=1.0->open3d) (2023.4)\n",
            "Requirement already satisfied: tzdata>=2022.1 in /usr/local/lib/python3.10/dist-packages (from pandas>=1.0->open3d) (2024.1)\n",
            "Requirement already satisfied: scipy>=1.3.2 in /usr/local/lib/python3.10/dist-packages (from scikit-learn>=0.21->open3d) (1.11.4)\n",
            "Requirement already satisfied: joblib>=1.1.1 in /usr/local/lib/python3.10/dist-packages (from scikit-learn>=0.21->open3d) (1.4.2)\n",
            "Requirement already satisfied: threadpoolctl>=2.0.0 in /usr/local/lib/python3.10/dist-packages (from scikit-learn>=0.21->open3d) (3.5.0)\n",
            "Requirement already satisfied: MarkupSafe>=2.1.1 in /usr/local/lib/python3.10/dist-packages (from werkzeug>=2.2.3->open3d) (2.1.5)\n",
            "Requirement already satisfied: Jinja2>=3.0 in /usr/local/lib/python3.10/dist-packages (from Flask<3.1,>=1.0.4->dash>=2.6.0->open3d) (3.1.4)\n",
            "Requirement already satisfied: itsdangerous>=2.0 in /usr/local/lib/python3.10/dist-packages (from Flask<3.1,>=1.0.4->dash>=2.6.0->open3d) (2.2.0)\n",
            "Requirement already satisfied: click>=8.0 in /usr/local/lib/python3.10/dist-packages (from Flask<3.1,>=1.0.4->dash>=2.6.0->open3d) (8.1.7)\n",
            "Requirement already satisfied: jedi>=0.16 in /usr/local/lib/python3.10/dist-packages (from ipython>=6.1.0->ipywidgets>=8.0.4->open3d) (0.19.1)\n",
            "Requirement already satisfied: decorator in /usr/local/lib/python3.10/dist-packages (from ipython>=6.1.0->ipywidgets>=8.0.4->open3d) (4.4.2)\n",
            "Requirement already satisfied: pickleshare in /usr/local/lib/python3.10/dist-packages (from ipython>=6.1.0->ipywidgets>=8.0.4->open3d) (0.7.5)\n",
            "Requirement already satisfied: prompt-toolkit!=3.0.0,!=3.0.1,<3.1.0,>=2.0.0 in /usr/local/lib/python3.10/dist-packages (from ipython>=6.1.0->ipywidgets>=8.0.4->open3d) (3.0.43)\n",
            "Requirement already satisfied: pygments in /usr/local/lib/python3.10/dist-packages (from ipython>=6.1.0->ipywidgets>=8.0.4->open3d) (2.16.1)\n",
            "Requirement already satisfied: backcall in /usr/local/lib/python3.10/dist-packages (from ipython>=6.1.0->ipywidgets>=8.0.4->open3d) (0.2.0)\n",
            "Requirement already satisfied: matplotlib-inline in /usr/local/lib/python3.10/dist-packages (from ipython>=6.1.0->ipywidgets>=8.0.4->open3d) (0.1.7)\n",
            "Requirement already satisfied: pexpect>4.3 in /usr/local/lib/python3.10/dist-packages (from ipython>=6.1.0->ipywidgets>=8.0.4->open3d) (4.9.0)\n",
            "Requirement already satisfied: attrs>=22.2.0 in /usr/local/lib/python3.10/dist-packages (from jsonschema>=2.6->nbformat>=5.7.0->open3d) (23.2.0)\n",
            "Requirement already satisfied: jsonschema-specifications>=2023.03.6 in /usr/local/lib/python3.10/dist-packages (from jsonschema>=2.6->nbformat>=5.7.0->open3d) (2023.12.1)\n",
            "Requirement already satisfied: referencing>=0.28.4 in /usr/local/lib/python3.10/dist-packages (from jsonschema>=2.6->nbformat>=5.7.0->open3d) (0.35.1)\n",
            "Requirement already satisfied: rpds-py>=0.7.1 in /usr/local/lib/python3.10/dist-packages (from jsonschema>=2.6->nbformat>=5.7.0->open3d) (0.18.1)\n",
            "Requirement already satisfied: platformdirs>=2.5 in /usr/local/lib/python3.10/dist-packages (from jupyter-core!=5.0.*,>=4.12->nbformat>=5.7.0->open3d) (4.2.1)\n",
            "Requirement already satisfied: tenacity>=6.2.0 in /usr/local/lib/python3.10/dist-packages (from plotly>=5.0.0->dash>=2.6.0->open3d) (8.3.0)\n",
            "Requirement already satisfied: six>=1.5 in /usr/local/lib/python3.10/dist-packages (from python-dateutil>=2.7->matplotlib>=3->open3d) (1.16.0)\n",
            "Requirement already satisfied: zipp>=0.5 in /usr/local/lib/python3.10/dist-packages (from importlib-metadata->dash>=2.6.0->open3d) (3.18.1)\n",
            "Requirement already satisfied: charset-normalizer<4,>=2 in /usr/local/lib/python3.10/dist-packages (from requests->dash>=2.6.0->open3d) (3.3.2)\n",
            "Requirement already satisfied: idna<4,>=2.5 in /usr/local/lib/python3.10/dist-packages (from requests->dash>=2.6.0->open3d) (3.7)\n",
            "Requirement already satisfied: urllib3<3,>=1.21.1 in /usr/local/lib/python3.10/dist-packages (from requests->dash>=2.6.0->open3d) (2.0.7)\n",
            "Requirement already satisfied: certifi>=2017.4.17 in /usr/local/lib/python3.10/dist-packages (from requests->dash>=2.6.0->open3d) (2024.2.2)\n",
            "Requirement already satisfied: parso<0.9.0,>=0.8.3 in /usr/local/lib/python3.10/dist-packages (from jedi>=0.16->ipython>=6.1.0->ipywidgets>=8.0.4->open3d) (0.8.4)\n",
            "Requirement already satisfied: ptyprocess>=0.5 in /usr/local/lib/python3.10/dist-packages (from pexpect>4.3->ipython>=6.1.0->ipywidgets>=8.0.4->open3d) (0.7.0)\n",
            "Requirement already satisfied: wcwidth in /usr/local/lib/python3.10/dist-packages (from prompt-toolkit!=3.0.0,!=3.0.1,<3.1.0,>=2.0.0->ipython>=6.1.0->ipywidgets>=8.0.4->open3d) (0.2.13)\n",
            "Requirement already satisfied: hydra-core in /usr/local/lib/python3.10/dist-packages (1.3.2)\n",
            "Requirement already satisfied: omegaconf<2.4,>=2.2 in /usr/local/lib/python3.10/dist-packages (from hydra-core) (2.3.0)\n",
            "Requirement already satisfied: antlr4-python3-runtime==4.9.* in /usr/local/lib/python3.10/dist-packages (from hydra-core) (4.9.3)\n",
            "Requirement already satisfied: packaging in /usr/local/lib/python3.10/dist-packages (from hydra-core) (24.0)\n",
            "Requirement already satisfied: PyYAML>=5.1.0 in /usr/local/lib/python3.10/dist-packages (from omegaconf<2.4,>=2.2->hydra-core) (6.0.1)\n",
            "Collecting einops\n",
            "  Using cached einops-0.8.0-py3-none-any.whl (43 kB)\n",
            "Installing collected packages: einops\n",
            "Successfully installed einops-0.8.0\n",
            "Collecting spconv-cu120\n",
            "  Using cached spconv_cu120-2.3.6-cp310-cp310-manylinux_2_17_x86_64.manylinux2014_x86_64.whl (76.3 MB)\n",
            "Collecting pccm>=0.4.0 (from spconv-cu120)\n",
            "  Downloading pccm-0.4.11-py3-none-any.whl (71 kB)\n",
            "\u001b[2K     \u001b[90m━━━━━━━━━━━━━━━━━━━━━━━━━━━━━━━━━━━━━━━━\u001b[0m \u001b[32m71.5/71.5 kB\u001b[0m \u001b[31m2.5 MB/s\u001b[0m eta \u001b[36m0:00:00\u001b[0m\n",
            "\u001b[?25hCollecting ccimport>=0.4.0 (from spconv-cu120)\n",
            "  Downloading ccimport-0.4.2-py3-none-any.whl (27 kB)\n",
            "Collecting pybind11>=2.6.0 (from spconv-cu120)\n",
            "  Downloading pybind11-2.12.0-py3-none-any.whl (234 kB)\n",
            "\u001b[2K     \u001b[90m━━━━━━━━━━━━━━━━━━━━━━━━━━━━━━━━━━━━━━━━\u001b[0m \u001b[32m235.0/235.0 kB\u001b[0m \u001b[31m13.8 MB/s\u001b[0m eta \u001b[36m0:00:00\u001b[0m\n",
            "\u001b[?25hCollecting fire (from spconv-cu120)\n",
            "  Downloading fire-0.6.0.tar.gz (88 kB)\n",
            "\u001b[2K     \u001b[90m━━━━━━━━━━━━━━━━━━━━━━━━━━━━━━━━━━━━━━━━\u001b[0m \u001b[32m88.4/88.4 kB\u001b[0m \u001b[31m13.4 MB/s\u001b[0m eta \u001b[36m0:00:00\u001b[0m\n",
            "\u001b[?25h  Preparing metadata (setup.py) ... \u001b[?25l\u001b[?25hdone\n",
            "Requirement already satisfied: numpy in /usr/local/lib/python3.10/dist-packages (from spconv-cu120) (1.25.2)\n",
            "Collecting cumm-cu120<0.5.0,>=0.4.5 (from spconv-cu120)\n",
            "  Downloading cumm_cu120-0.4.11-cp310-cp310-manylinux_2_17_x86_64.manylinux2014_x86_64.whl (26.2 MB)\n",
            "\u001b[2K     \u001b[90m━━━━━━━━━━━━━━━━━━━━━━━━━━━━━━━━━━━━━━━━\u001b[0m \u001b[32m26.2/26.2 MB\u001b[0m \u001b[31m61.1 MB/s\u001b[0m eta \u001b[36m0:00:00\u001b[0m\n",
            "\u001b[?25hCollecting ninja (from ccimport>=0.4.0->spconv-cu120)\n",
            "  Downloading ninja-1.11.1.1-py2.py3-none-manylinux1_x86_64.manylinux_2_5_x86_64.whl (307 kB)\n",
            "\u001b[2K     \u001b[90m━━━━━━━━━━━━━━━━━━━━━━━━━━━━━━━━━━━━━━━━\u001b[0m \u001b[32m307.2/307.2 kB\u001b[0m \u001b[31m39.7 MB/s\u001b[0m eta \u001b[36m0:00:00\u001b[0m\n",
            "\u001b[?25hRequirement already satisfied: requests in /usr/local/lib/python3.10/dist-packages (from ccimport>=0.4.0->spconv-cu120) (2.31.0)\n",
            "Collecting lark>=1.0.0 (from pccm>=0.4.0->spconv-cu120)\n",
            "  Downloading lark-1.1.9-py3-none-any.whl (111 kB)\n",
            "\u001b[2K     \u001b[90m━━━━━━━━━━━━━━━━━━━━━━━━━━━━━━━━━━━━━━━━\u001b[0m \u001b[32m111.7/111.7 kB\u001b[0m \u001b[31m18.6 MB/s\u001b[0m eta \u001b[36m0:00:00\u001b[0m\n",
            "\u001b[?25hCollecting portalocker>=2.3.2 (from pccm>=0.4.0->spconv-cu120)\n",
            "  Downloading portalocker-2.8.2-py3-none-any.whl (17 kB)\n",
            "Requirement already satisfied: six in /usr/local/lib/python3.10/dist-packages (from fire->spconv-cu120) (1.16.0)\n",
            "Requirement already satisfied: termcolor in /usr/local/lib/python3.10/dist-packages (from fire->spconv-cu120) (2.4.0)\n",
            "Requirement already satisfied: charset-normalizer<4,>=2 in /usr/local/lib/python3.10/dist-packages (from requests->ccimport>=0.4.0->spconv-cu120) (3.3.2)\n",
            "Requirement already satisfied: idna<4,>=2.5 in /usr/local/lib/python3.10/dist-packages (from requests->ccimport>=0.4.0->spconv-cu120) (3.7)\n",
            "Requirement already satisfied: urllib3<3,>=1.21.1 in /usr/local/lib/python3.10/dist-packages (from requests->ccimport>=0.4.0->spconv-cu120) (2.0.7)\n",
            "Requirement already satisfied: certifi>=2017.4.17 in /usr/local/lib/python3.10/dist-packages (from requests->ccimport>=0.4.0->spconv-cu120) (2024.2.2)\n",
            "Building wheels for collected packages: fire\n",
            "  Building wheel for fire (setup.py) ... \u001b[?25l\u001b[?25hdone\n",
            "  Created wheel for fire: filename=fire-0.6.0-py2.py3-none-any.whl size=117029 sha256=4560614f9d1e3887007e4d4020d48587ffd5d76da253e28fd8ee801ca63f321e\n",
            "  Stored in directory: /root/.cache/pip/wheels/d6/6d/5d/5b73fa0f46d01a793713f8859201361e9e581ced8c75e5c6a3\n",
            "Successfully built fire\n",
            "Installing collected packages: ninja, pybind11, portalocker, lark, fire, ccimport, pccm, cumm-cu120, spconv-cu120\n",
            "Successfully installed ccimport-0.4.2 cumm-cu120-0.4.11 fire-0.6.0 lark-1.1.9 ninja-1.11.1.1 pccm-0.4.11 portalocker-2.8.2 pybind11-2.12.0 spconv-cu120-2.3.6\n",
            "Collecting timm\n",
            "  Downloading timm-0.9.16-py3-none-any.whl (2.2 MB)\n",
            "\u001b[2K     \u001b[90m━━━━━━━━━━━━━━━━━━━━━━━━━━━━━━━━━━━━━━━━\u001b[0m \u001b[32m2.2/2.2 MB\u001b[0m \u001b[31m33.0 MB/s\u001b[0m eta \u001b[36m0:00:00\u001b[0m\n",
            "\u001b[?25hRequirement already satisfied: torch in /usr/local/lib/python3.10/dist-packages (from timm) (2.2.1+cu121)\n",
            "Requirement already satisfied: torchvision in /usr/local/lib/python3.10/dist-packages (from timm) (0.17.1+cu121)\n",
            "Requirement already satisfied: pyyaml in /usr/local/lib/python3.10/dist-packages (from timm) (6.0.1)\n",
            "Requirement already satisfied: huggingface_hub in /usr/local/lib/python3.10/dist-packages (from timm) (0.20.3)\n",
            "Requirement already satisfied: safetensors in /usr/local/lib/python3.10/dist-packages (from timm) (0.4.3)\n",
            "Requirement already satisfied: filelock in /usr/local/lib/python3.10/dist-packages (from huggingface_hub->timm) (3.14.0)\n",
            "Requirement already satisfied: fsspec>=2023.5.0 in /usr/local/lib/python3.10/dist-packages (from huggingface_hub->timm) (2023.6.0)\n",
            "Requirement already satisfied: requests in /usr/local/lib/python3.10/dist-packages (from huggingface_hub->timm) (2.31.0)\n",
            "Requirement already satisfied: tqdm>=4.42.1 in /usr/local/lib/python3.10/dist-packages (from huggingface_hub->timm) (4.66.4)\n",
            "Requirement already satisfied: typing-extensions>=3.7.4.3 in /usr/local/lib/python3.10/dist-packages (from huggingface_hub->timm) (4.11.0)\n",
            "Requirement already satisfied: packaging>=20.9 in /usr/local/lib/python3.10/dist-packages (from huggingface_hub->timm) (24.0)\n",
            "Requirement already satisfied: sympy in /usr/local/lib/python3.10/dist-packages (from torch->timm) (1.12)\n",
            "Requirement already satisfied: networkx in /usr/local/lib/python3.10/dist-packages (from torch->timm) (3.3)\n",
            "Requirement already satisfied: jinja2 in /usr/local/lib/python3.10/dist-packages (from torch->timm) (3.1.4)\n",
            "Collecting nvidia-cuda-nvrtc-cu12==12.1.105 (from torch->timm)\n",
            "  Using cached nvidia_cuda_nvrtc_cu12-12.1.105-py3-none-manylinux1_x86_64.whl (23.7 MB)\n",
            "Collecting nvidia-cuda-runtime-cu12==12.1.105 (from torch->timm)\n",
            "  Using cached nvidia_cuda_runtime_cu12-12.1.105-py3-none-manylinux1_x86_64.whl (823 kB)\n",
            "Collecting nvidia-cuda-cupti-cu12==12.1.105 (from torch->timm)\n",
            "  Using cached nvidia_cuda_cupti_cu12-12.1.105-py3-none-manylinux1_x86_64.whl (14.1 MB)\n",
            "Collecting nvidia-cudnn-cu12==8.9.2.26 (from torch->timm)\n",
            "  Using cached nvidia_cudnn_cu12-8.9.2.26-py3-none-manylinux1_x86_64.whl (731.7 MB)\n",
            "Collecting nvidia-cublas-cu12==12.1.3.1 (from torch->timm)\n",
            "  Using cached nvidia_cublas_cu12-12.1.3.1-py3-none-manylinux1_x86_64.whl (410.6 MB)\n",
            "Collecting nvidia-cufft-cu12==11.0.2.54 (from torch->timm)\n",
            "  Using cached nvidia_cufft_cu12-11.0.2.54-py3-none-manylinux1_x86_64.whl (121.6 MB)\n",
            "Collecting nvidia-curand-cu12==10.3.2.106 (from torch->timm)\n",
            "  Using cached nvidia_curand_cu12-10.3.2.106-py3-none-manylinux1_x86_64.whl (56.5 MB)\n",
            "Collecting nvidia-cusolver-cu12==11.4.5.107 (from torch->timm)\n",
            "  Using cached nvidia_cusolver_cu12-11.4.5.107-py3-none-manylinux1_x86_64.whl (124.2 MB)\n",
            "Collecting nvidia-cusparse-cu12==12.1.0.106 (from torch->timm)\n",
            "  Using cached nvidia_cusparse_cu12-12.1.0.106-py3-none-manylinux1_x86_64.whl (196.0 MB)\n",
            "Collecting nvidia-nccl-cu12==2.19.3 (from torch->timm)\n",
            "  Using cached nvidia_nccl_cu12-2.19.3-py3-none-manylinux1_x86_64.whl (166.0 MB)\n",
            "Collecting nvidia-nvtx-cu12==12.1.105 (from torch->timm)\n",
            "  Using cached nvidia_nvtx_cu12-12.1.105-py3-none-manylinux1_x86_64.whl (99 kB)\n",
            "Requirement already satisfied: triton==2.2.0 in /usr/local/lib/python3.10/dist-packages (from torch->timm) (2.2.0)\n",
            "Collecting nvidia-nvjitlink-cu12 (from nvidia-cusolver-cu12==11.4.5.107->torch->timm)\n",
            "  Using cached nvidia_nvjitlink_cu12-12.4.127-py3-none-manylinux2014_x86_64.whl (21.1 MB)\n",
            "Requirement already satisfied: numpy in /usr/local/lib/python3.10/dist-packages (from torchvision->timm) (1.25.2)\n",
            "Requirement already satisfied: pillow!=8.3.*,>=5.3.0 in /usr/local/lib/python3.10/dist-packages (from torchvision->timm) (9.4.0)\n",
            "Requirement already satisfied: MarkupSafe>=2.0 in /usr/local/lib/python3.10/dist-packages (from jinja2->torch->timm) (2.1.5)\n",
            "Requirement already satisfied: charset-normalizer<4,>=2 in /usr/local/lib/python3.10/dist-packages (from requests->huggingface_hub->timm) (3.3.2)\n",
            "Requirement already satisfied: idna<4,>=2.5 in /usr/local/lib/python3.10/dist-packages (from requests->huggingface_hub->timm) (3.7)\n",
            "Requirement already satisfied: urllib3<3,>=1.21.1 in /usr/local/lib/python3.10/dist-packages (from requests->huggingface_hub->timm) (2.0.7)\n",
            "Requirement already satisfied: certifi>=2017.4.17 in /usr/local/lib/python3.10/dist-packages (from requests->huggingface_hub->timm) (2024.2.2)\n",
            "Requirement already satisfied: mpmath>=0.19 in /usr/local/lib/python3.10/dist-packages (from sympy->torch->timm) (1.3.0)\n",
            "Installing collected packages: nvidia-nvtx-cu12, nvidia-nvjitlink-cu12, nvidia-nccl-cu12, nvidia-curand-cu12, nvidia-cufft-cu12, nvidia-cuda-runtime-cu12, nvidia-cuda-nvrtc-cu12, nvidia-cuda-cupti-cu12, nvidia-cublas-cu12, nvidia-cusparse-cu12, nvidia-cudnn-cu12, nvidia-cusolver-cu12, timm\n",
            "Successfully installed nvidia-cublas-cu12-12.1.3.1 nvidia-cuda-cupti-cu12-12.1.105 nvidia-cuda-nvrtc-cu12-12.1.105 nvidia-cuda-runtime-cu12-12.1.105 nvidia-cudnn-cu12-8.9.2.26 nvidia-cufft-cu12-11.0.2.54 nvidia-curand-cu12-10.3.2.106 nvidia-cusolver-cu12-11.4.5.107 nvidia-cusparse-cu12-12.1.0.106 nvidia-nccl-cu12-2.19.3 nvidia-nvjitlink-cu12-12.4.127 nvidia-nvtx-cu12-12.1.105 timm-0.9.16\n",
            "Looking in links: https://data.pyg.org/whl/torch-2.2.0+cu121.html\n",
            "Collecting torch-scatter\n",
            "  Downloading https://data.pyg.org/whl/torch-2.2.0%2Bcu121/torch_scatter-2.1.2%2Bpt22cu121-cp310-cp310-linux_x86_64.whl (10.9 MB)\n",
            "\u001b[2K     \u001b[90m━━━━━━━━━━━━━━━━━━━━━━━━━━━━━━━━━━━━━━━━\u001b[0m \u001b[32m10.9/10.9 MB\u001b[0m \u001b[31m10.0 MB/s\u001b[0m eta \u001b[36m0:00:00\u001b[0m\n",
            "\u001b[?25hInstalling collected packages: torch-scatter\n",
            "Successfully installed torch-scatter-2.1.2+pt22cu121\n",
            "Collecting flash-attn\n",
            "  Downloading flash_attn-2.5.8.tar.gz (2.5 MB)\n",
            "\u001b[2K     \u001b[90m━━━━━━━━━━━━━━━━━━━━━━━━━━━━━━━━━━━━━━━━\u001b[0m \u001b[32m2.5/2.5 MB\u001b[0m \u001b[31m36.8 MB/s\u001b[0m eta \u001b[36m0:00:00\u001b[0m\n",
            "\u001b[?25h  Preparing metadata (setup.py) ... \u001b[?25l\u001b[?25hdone\n",
            "Requirement already satisfied: torch in /usr/local/lib/python3.10/dist-packages (from flash-attn) (2.2.1+cu121)\n",
            "Requirement already satisfied: einops in /usr/local/lib/python3.10/dist-packages (from flash-attn) (0.8.0)\n",
            "Requirement already satisfied: packaging in /usr/local/lib/python3.10/dist-packages (from flash-attn) (24.0)\n",
            "Requirement already satisfied: ninja in /usr/local/lib/python3.10/dist-packages (from flash-attn) (1.11.1.1)\n",
            "Requirement already satisfied: filelock in /usr/local/lib/python3.10/dist-packages (from torch->flash-attn) (3.14.0)\n",
            "Requirement already satisfied: typing-extensions>=4.8.0 in /usr/local/lib/python3.10/dist-packages (from torch->flash-attn) (4.11.0)\n",
            "Requirement already satisfied: sympy in /usr/local/lib/python3.10/dist-packages (from torch->flash-attn) (1.12)\n",
            "Requirement already satisfied: networkx in /usr/local/lib/python3.10/dist-packages (from torch->flash-attn) (3.3)\n",
            "Requirement already satisfied: jinja2 in /usr/local/lib/python3.10/dist-packages (from torch->flash-attn) (3.1.4)\n",
            "Requirement already satisfied: fsspec in /usr/local/lib/python3.10/dist-packages (from torch->flash-attn) (2023.6.0)\n",
            "Requirement already satisfied: nvidia-cuda-nvrtc-cu12==12.1.105 in /usr/local/lib/python3.10/dist-packages (from torch->flash-attn) (12.1.105)\n",
            "Requirement already satisfied: nvidia-cuda-runtime-cu12==12.1.105 in /usr/local/lib/python3.10/dist-packages (from torch->flash-attn) (12.1.105)\n",
            "Requirement already satisfied: nvidia-cuda-cupti-cu12==12.1.105 in /usr/local/lib/python3.10/dist-packages (from torch->flash-attn) (12.1.105)\n",
            "Requirement already satisfied: nvidia-cudnn-cu12==8.9.2.26 in /usr/local/lib/python3.10/dist-packages (from torch->flash-attn) (8.9.2.26)\n",
            "Requirement already satisfied: nvidia-cublas-cu12==12.1.3.1 in /usr/local/lib/python3.10/dist-packages (from torch->flash-attn) (12.1.3.1)\n",
            "Requirement already satisfied: nvidia-cufft-cu12==11.0.2.54 in /usr/local/lib/python3.10/dist-packages (from torch->flash-attn) (11.0.2.54)\n",
            "Requirement already satisfied: nvidia-curand-cu12==10.3.2.106 in /usr/local/lib/python3.10/dist-packages (from torch->flash-attn) (10.3.2.106)\n",
            "Requirement already satisfied: nvidia-cusolver-cu12==11.4.5.107 in /usr/local/lib/python3.10/dist-packages (from torch->flash-attn) (11.4.5.107)\n",
            "Requirement already satisfied: nvidia-cusparse-cu12==12.1.0.106 in /usr/local/lib/python3.10/dist-packages (from torch->flash-attn) (12.1.0.106)\n",
            "Requirement already satisfied: nvidia-nccl-cu12==2.19.3 in /usr/local/lib/python3.10/dist-packages (from torch->flash-attn) (2.19.3)\n",
            "Requirement already satisfied: nvidia-nvtx-cu12==12.1.105 in /usr/local/lib/python3.10/dist-packages (from torch->flash-attn) (12.1.105)\n",
            "Requirement already satisfied: triton==2.2.0 in /usr/local/lib/python3.10/dist-packages (from torch->flash-attn) (2.2.0)\n",
            "Requirement already satisfied: nvidia-nvjitlink-cu12 in /usr/local/lib/python3.10/dist-packages (from nvidia-cusolver-cu12==11.4.5.107->torch->flash-attn) (12.4.127)\n",
            "Requirement already satisfied: MarkupSafe>=2.0 in /usr/local/lib/python3.10/dist-packages (from jinja2->torch->flash-attn) (2.1.5)\n",
            "Requirement already satisfied: mpmath>=0.19 in /usr/local/lib/python3.10/dist-packages (from sympy->torch->flash-attn) (1.3.0)\n",
            "Building wheels for collected packages: flash-attn\n",
            "  Building wheel for flash-attn (setup.py) ... \u001b[?25l\u001b[?25hdone\n",
            "  Created wheel for flash-attn: filename=flash_attn-2.5.8-cp310-cp310-linux_x86_64.whl size=120853537 sha256=53979129f883680327bf5d13027cd014e2d054f4fb5b8856916686ae315e57d6\n",
            "  Stored in directory: /root/.cache/pip/wheels/9b/5b/2b/dea8af4e954161c49ef1941938afcd91bb93689371ed12a226\n",
            "Successfully built flash-attn\n",
            "Installing collected packages: flash-attn\n",
            "Successfully installed flash-attn-2.5.8\n"
          ]
        }
      ]
    },
    {
      "cell_type": "code",
      "execution_count": null,
      "metadata": {
        "colab": {
          "base_uri": "https://localhost:8080/"
        },
        "id": "RWSze8qROty5",
        "outputId": "0500aaed-61fa-43be-e118-26b3ffc9329c"
      },
      "outputs": [
        {
          "output_type": "stream",
          "name": "stdout",
          "text": [
            "Mounted at /content/gdrive\n"
          ]
        }
      ],
      "source": [
        "from google.colab import drive\n",
        "drive.mount('/content/gdrive')"
      ]
    },
    {
      "cell_type": "code",
      "source": [
        "%cd /content/gdrive/My Drive/Project"
      ],
      "metadata": {
        "colab": {
          "base_uri": "https://localhost:8080/"
        },
        "id": "WTrehnvWPgJt",
        "outputId": "3d42dc40-a63c-4d0c-be96-8b042d4355dc"
      },
      "execution_count": null,
      "outputs": [
        {
          "output_type": "stream",
          "name": "stdout",
          "text": [
            "/content/gdrive/My Drive/Project\n"
          ]
        }
      ]
    },
    {
      "cell_type": "markdown",
      "source": [
        "###Clone SC3K Repository\n",
        "\n",
        "I'll leave it commented since this step is a one-step thing for initial setup so no need to run it if its already in the drive."
      ],
      "metadata": {
        "id": "fNWwnwcXQD8I"
      }
    },
    {
      "cell_type": "code",
      "source": [
        "# !git clone https://github.com/cs674-keypoint-estimation/cs674-keypoint-estimation.git"
      ],
      "metadata": {
        "colab": {
          "base_uri": "https://localhost:8080/"
        },
        "id": "pux9PG7rPxto",
        "outputId": "8f180e13-e41c-4962-bb12-eb3d577177e6"
      },
      "execution_count": null,
      "outputs": [
        {
          "output_type": "stream",
          "name": "stdout",
          "text": [
            "Cloning into 'cs674-keypoint-estimation'...\n",
            "remote: Enumerating objects: 89, done.\u001b[K\n",
            "remote: Counting objects: 100% (89/89), done.\u001b[K\n",
            "remote: Compressing objects: 100% (62/62), done.\u001b[K\n",
            "remote: Total 89 (delta 22), reused 86 (delta 19), pack-reused 0\u001b[K\n",
            "Receiving objects: 100% (89/89), 24.59 MiB | 14.55 MiB/s, done.\n",
            "Resolving deltas: 100% (22/22), done.\n"
          ]
        }
      ]
    },
    {
      "cell_type": "markdown",
      "source": [
        "###Navigate to project directory"
      ],
      "metadata": {
        "id": "RuFGGjI3KOZo"
      }
    },
    {
      "cell_type": "code",
      "source": [
        "%cd cs674-keypoint-estimation\n",
        "!git checkout ptv3-changes\n",
        "!git pull"
      ],
      "metadata": {
        "colab": {
          "base_uri": "https://localhost:8080/"
        },
        "id": "U0wfj8g41LMV",
        "outputId": "02070cce-bad9-41ae-81f3-f560cd698804"
      },
      "execution_count": null,
      "outputs": [
        {
          "output_type": "stream",
          "name": "stdout",
          "text": [
            "/content/gdrive/My Drive/Project/cs674-keypoint-estimation\n",
            "D\tdataset/annotations/airplane.json\n",
            "D\tdataset/pcds/02691156/1b300fd9ad4050e6301fa0a0663ee996.pcd\n",
            "D\tdataset/pcds/02691156/1bcbb0267f5f1d53c6c0edf9d2d89150.pcd\n",
            "D\tdataset/pcds/02691156/1c673748703c99207f1f82f6fc8747b8.pcd\n",
            "D\tdataset/pcds/02691156/1caa02b831cccff090baeef8ba5b93e5.pcd\n",
            "D\tdataset/pcds/02691156/1d1244abfefc781f35fc197bbabcd5bd.pcd\n",
            "D\tdataset/pcds/02691156/1d4ff34cdf90d6f9aa2d78d1b8d0b45c.pcd\n",
            "D\tdataset/pcds/02691156/1d5beedb73951ef68649ad8da70da1e.pcd\n",
            "D\tdataset/pcds/02691156/1d6afc44b053ab07941d71475449eb25.pcd\n",
            "D\tdataset/pcds/02691156/1df217928b39b927a8cba409c4409ba9.pcd\n",
            "D\tdataset/pcds/02691156/1e40d41905a9be766ed8c57a1980bb26.pcd\n",
            "D\tdataset/pcds/02691156/1e8adc1e176bc68571d03b466c72ce41.pcd\n",
            "D\tdataset/pcds/02691156/1e8c56bac4e66672e85e222f6559b47.pcd\n",
            "D\tdataset/pcds/02691156/1e9ef313876bfba7d02c6d35cc802839.pcd\n",
            "D\tdataset/poses/02691156/1b300fd9ad4050e6301fa0a0663ee996.npz\n",
            "D\tdataset/poses/02691156/1bcbb0267f5f1d53c6c0edf9d2d89150.npz\n",
            "D\tdataset/poses/02691156/1c673748703c99207f1f82f6fc8747b8.npz\n",
            "D\tdataset/poses/02691156/1caa02b831cccff090baeef8ba5b93e5.npz\n",
            "D\tdataset/poses/02691156/1d1244abfefc781f35fc197bbabcd5bd.npz\n",
            "D\tdataset/poses/02691156/1d4ff34cdf90d6f9aa2d78d1b8d0b45c.npz\n",
            "D\tdataset/poses/02691156/1d5beedb73951ef68649ad8da70da1e.npz\n",
            "D\tdataset/poses/02691156/1d6afc44b053ab07941d71475449eb25.npz\n",
            "D\tdataset/poses/02691156/1df217928b39b927a8cba409c4409ba9.npz\n",
            "D\tdataset/poses/02691156/1e40d41905a9be766ed8c57a1980bb26.npz\n",
            "D\tdataset/poses/02691156/1e8adc1e176bc68571d03b466c72ce41.npz\n",
            "D\tdataset/poses/02691156/1e8c56bac4e66672e85e222f6559b47.npz\n",
            "D\tdataset/poses/02691156/1e9ef313876bfba7d02c6d35cc802839.npz\n",
            "D\tdataset/splits/test.txt\n",
            "D\tdataset/splits/train.txt\n",
            "D\tdataset/splits/val.txt\n",
            "Already on 'ptv3-changes'\n",
            "Your branch is up to date with 'origin/ptv3-changes'.\n",
            "remote: Enumerating objects: 7, done.\u001b[K\n",
            "remote: Counting objects: 100% (7/7), done.\u001b[K\n",
            "remote: Compressing objects: 100% (2/2), done.\u001b[K\n",
            "remote: Total 4 (delta 2), reused 4 (delta 2), pack-reused 0\u001b[K\n",
            "Unpacking objects: 100% (4/4), 366 bytes | 0 bytes/s, done.\n",
            "From https://github.com/cs674-keypoint-estimation/cs674-keypoint-estimation\n",
            "   0cd0e0e..ee02664  ptv3-changes -> origin/ptv3-changes\n",
            "Updating 0cd0e0e..ee02664\n",
            "Fast-forward\n",
            " config/config.yaml | 2 \u001b[32m+\u001b[m\u001b[31m-\u001b[m\n",
            " 1 file changed, 1 insertion(+), 1 deletion(-)\n"
          ]
        }
      ]
    },
    {
      "cell_type": "markdown",
      "source": [
        "###Train Model\n",
        "\n",
        "Remember to modify config/config.yml with correct settings. Rename train_config.yml to config.yml (If it doesn't exist, then it's already renamed most probably."
      ],
      "metadata": {
        "id": "ucafcLSOKllg"
      }
    },
    {
      "cell_type": "code",
      "source": [
        "import gc\n",
        "import torch\n",
        "\n",
        "gc.collect()\n",
        "\n",
        "torch.cuda.empty_cache()"
      ],
      "metadata": {
        "id": "WHFKJhoJZwEG"
      },
      "execution_count": null,
      "outputs": []
    },
    {
      "cell_type": "code",
      "source": [
        "!python train.py"
      ],
      "metadata": {
        "colab": {
          "base_uri": "https://localhost:8080/"
        },
        "id": "MoODI_AZ4gqV",
        "outputId": "19d5b55d-1a31-408f-83d6-1099e2c861d3"
      },
      "execution_count": null,
      "outputs": [
        {
          "output_type": "stream",
          "name": "stdout",
          "text": [
            "2024-05-13 02:15:33.873978: E external/local_xla/xla/stream_executor/cuda/cuda_dnn.cc:9261] Unable to register cuDNN factory: Attempting to register factory for plugin cuDNN when one has already been registered\n",
            "2024-05-13 02:15:33.874026: E external/local_xla/xla/stream_executor/cuda/cuda_fft.cc:607] Unable to register cuFFT factory: Attempting to register factory for plugin cuFFT when one has already been registered\n",
            "2024-05-13 02:15:33.875981: E external/local_xla/xla/stream_executor/cuda/cuda_blas.cc:1515] Unable to register cuBLAS factory: Attempting to register factory for plugin cuBLAS when one has already been registered\n",
            "2024-05-13 02:15:34.957425: W tensorflow/compiler/tf2tensorrt/utils/py_utils.cc:38] TF-TRT Warning: Could not find TensorRT\n",
            "[2024-05-13 02:15:35,926][__main__][INFO] - Paper: SC3K -- Self-supervised and Coherent 3D Keypoints Estimation from Rotated,\n",
            "  Noisy, and Decimated Point Cloud Data (ICCV-2023)\n",
            "split: train\n",
            "task: generic\n",
            "key_points: 10\n",
            "batch_size: 12\n",
            "max_epoch: 50\n",
            "resume_epoch: 35\n",
            "num_workers: 24\n",
            "class_name: mug\n",
            "overlap_threshold: 0.05\n",
            "save_results: true\n",
            "parameters:\n",
            "  separation: 1\n",
            "  overlap: 1\n",
            "  shape: 6\n",
            "  consist: 1\n",
            "  volume: 1\n",
            "  pose: 0.07\n",
            "augmentation:\n",
            "  translation: false\n",
            "  rot_gravity: false\n",
            "  normalize_pc: true\n",
            "  gaussian_noise: false\n",
            "  down_sample: false\n",
            "  uniform_sampling: false\n",
            "lamda: 0\n",
            "lamda2: 0\n",
            "sample_points: 2048\n",
            "data:\n",
            "  annot_path: dataset/annotations/all.json\n",
            "  pcd_root: dataset/pcds\n",
            "  splits_root: dataset/splits/03797390\n",
            "  poses_root: dataset/poses\n",
            "  best_model_path: train/table/Best_mug_10kp_dec.pth\n",
            "log_path: generic_logs\n",
            "\n",
            "loaded 186 samples of categories:  ['03797390']\n",
            "Loading train data, please wait\n",
            "\n",
            "100% 186/186 [00:22<00:00,  8.36it/s]\n",
            "\n",
            "\n",
            "Please wait, arranging the data\n",
            "\n",
            "\n",
            "\n",
            "\n",
            "loaded data contains: \n",
            "  * camera_param 1: 2688\n",
            "  * camera_param 2: 2688\n",
            "  * transformed_pcds 1: 2688\n",
            "  * transformed_pcds 2: 2688\n",
            "  * mesh_names: 2688\n",
            "\n",
            "\n",
            "/usr/local/lib/python3.10/dist-packages/torch/utils/data/dataloader.py:558: UserWarning: This DataLoader will create 24 worker processes in total. Our suggested max number of worker in current system is 16, which is smaller than what this DataLoader is going to create. Please be aware that excessive worker creation might get DataLoader running slow or even freeze, lower the worker number to avoid potential slowness/freeze if necessary.\n",
            "  warnings.warn(_create_warning_msg(\n",
            "loaded 186 samples of categories:  ['03797390']\n",
            "Loading val data, please wait\n",
            "\n",
            "100% 186/186 [00:07<00:00, 25.91it/s]\n",
            "\n",
            "\n",
            "Please wait, arranging the data\n",
            "\n",
            "\n",
            "\n",
            "\n",
            "loaded data contains: \n",
            "  * camera_param 1: 864\n",
            "  * camera_param 2: 864\n",
            "  * transformed_pcds 1: 864\n",
            "  * transformed_pcds 2: 864\n",
            "  * mesh_names: 864\n",
            "\n",
            "\n",
            "Loaded model state from 'mug_10kp_35.pth'\n",
            "  0% 0/224 [00:00<?, ?it/s]/usr/lib/python3.10/multiprocessing/popen_fork.py:66: RuntimeWarning: os.fork() was called. os.fork() is incompatible with multithreaded code, and JAX is multithreaded, so this will likely lead to a deadlock.\n",
            "  self.pid = os.fork()\n",
            "100% 224/224 [05:22<00:00,  1.44s/it, loss=14.3]\n",
            "[2024-05-13 02:21:35,721][__main__][INFO] - Epoch: 35, Average Train loss: 14.041959226254756\n",
            "100% 72/72 [00:45<00:00,  1.59it/s, loss=9.95]\n",
            "[2024-05-13 02:22:20,893][__main__][INFO] - best epoch: 35\n",
            "[2024-05-13 02:22:28,239][__main__][INFO] - Epoch: 35, Average Val loss: 13.844484649130578\n",
            "100% 224/224 [05:13<00:00,  1.40s/it, loss=9.89]\n",
            "[2024-05-13 02:27:44,234][__main__][INFO] - Epoch: 36, Average Train loss: 14.145111101137587\n",
            "100% 72/72 [00:45<00:00,  1.59it/s, loss=14.7]\n",
            "[2024-05-13 02:28:29,597][__main__][INFO] - Epoch: 36, Average Val loss: 15.300742760660452\n",
            "100% 224/224 [05:13<00:00,  1.40s/it, loss=14]\n",
            "[2024-05-13 02:33:42,751][__main__][INFO] - Epoch: 37, Average Train loss: 13.334142157132977\n",
            "100% 72/72 [00:45<00:00,  1.59it/s, loss=10.6]\n",
            "[2024-05-13 02:34:28,081][__main__][INFO] - Epoch: 37, Average Val loss: 14.412741967733247\n",
            "100% 224/224 [05:12<00:00,  1.40s/it, loss=10]\n",
            "[2024-05-13 02:39:40,587][__main__][INFO] - Epoch: 38, Average Train loss: 13.456050281137069\n",
            "100% 72/72 [00:45<00:00,  1.58it/s, loss=10.5]\n",
            "[2024-05-13 02:40:26,096][__main__][INFO] - Epoch: 38, Average Val loss: 14.327681172585033\n",
            "100% 224/224 [05:13<00:00,  1.40s/it, loss=14.2]\n",
            "[2024-05-13 02:45:39,763][__main__][INFO] - Epoch: 39, Average Train loss: 13.613948651845806\n",
            "100% 72/72 [00:45<00:00,  1.58it/s, loss=14.4]\n",
            "[2024-05-13 02:46:25,289][__main__][INFO] - Epoch: 39, Average Val loss: 14.44896050495791\n",
            "100% 224/224 [05:14<00:00,  1.40s/it, loss=10.6]\n",
            "[2024-05-13 02:51:41,464][__main__][INFO] - Epoch: 40, Average Train loss: 13.901940209648286\n",
            "100% 72/72 [00:44<00:00,  1.60it/s, loss=12.1]\n",
            "[2024-05-13 02:52:26,419][__main__][INFO] - best epoch: 40\n",
            "[2024-05-13 02:52:28,282][__main__][INFO] - Epoch: 40, Average Val loss: 13.658943244512422\n",
            "100% 224/224 [05:11<00:00,  1.39s/it, loss=12.2]\n",
            "[2024-05-13 02:57:40,016][__main__][INFO] - Epoch: 41, Average Train loss: 13.51157648235118\n",
            "100% 72/72 [00:45<00:00,  1.59it/s, loss=14.5]\n",
            "[2024-05-13 02:58:25,330][__main__][INFO] - best epoch: 41\n",
            "[2024-05-13 02:58:27,192][__main__][INFO] - Epoch: 41, Average Val loss: 13.606379815633636\n",
            "100% 224/224 [05:13<00:00,  1.40s/it, loss=13.9]\n",
            "[2024-05-13 03:03:40,268][__main__][INFO] - Epoch: 42, Average Train loss: 13.883468849441675\n",
            "100% 72/72 [00:45<00:00,  1.59it/s, loss=10.3]\n",
            "[2024-05-13 03:04:25,434][__main__][INFO] - Epoch: 42, Average Val loss: 14.67551720343915\n",
            "100% 224/224 [05:12<00:00,  1.40s/it, loss=9.77]\n",
            "[2024-05-13 03:09:38,004][__main__][INFO] - Epoch: 43, Average Train loss: 14.2789225451817\n",
            "100% 72/72 [00:45<00:00,  1.60it/s, loss=12.8]\n",
            "[2024-05-13 03:10:23,126][__main__][INFO] - Epoch: 43, Average Val loss: 13.81327156427391\n",
            "100% 224/224 [05:11<00:00,  1.39s/it, loss=14.2]\n",
            "[2024-05-13 03:15:35,123][__main__][INFO] - Epoch: 44, Average Train loss: 13.334270209197328\n",
            "100% 72/72 [00:45<00:00,  1.60it/s, loss=20.7]\n",
            "[2024-05-13 03:16:20,150][__main__][INFO] - best epoch: 44\n",
            "[2024-05-13 03:16:22,042][__main__][INFO] - Epoch: 44, Average Val loss: 13.590352285599254\n",
            "100% 224/224 [05:13<00:00,  1.40s/it, loss=10.4]\n",
            "[2024-05-13 03:21:37,772][__main__][INFO] - Epoch: 45, Average Train loss: 13.240151516152121\n",
            "100% 72/72 [00:45<00:00,  1.58it/s, loss=18.2]\n",
            "[2024-05-13 03:22:23,241][__main__][INFO] - Epoch: 45, Average Val loss: 13.789789254826514\n",
            "100% 224/224 [05:14<00:00,  1.40s/it, loss=12.3]\n",
            "[2024-05-13 03:27:37,726][__main__][INFO] - Epoch: 46, Average Train loss: 13.64663770381452\n",
            "100% 72/72 [00:45<00:00,  1.59it/s, loss=9.87]\n",
            "[2024-05-13 03:28:23,070][__main__][INFO] - best epoch: 46\n",
            "[2024-05-13 03:28:24,966][__main__][INFO] - Epoch: 46, Average Val loss: 13.413888284261565\n",
            "100% 224/224 [05:14<00:00,  1.40s/it, loss=16]\n",
            "[2024-05-13 03:33:39,492][__main__][INFO] - Epoch: 47, Average Train loss: 13.614364726326139\n",
            "100% 72/72 [00:45<00:00,  1.59it/s, loss=14.1]\n",
            "[2024-05-13 03:34:24,808][__main__][INFO] - Epoch: 47, Average Val loss: 14.602348581316278\n",
            "100% 224/224 [05:14<00:00,  1.40s/it, loss=16.5]\n",
            "[2024-05-13 03:39:38,955][__main__][INFO] - Epoch: 48, Average Train loss: 14.41682261240893\n",
            "100% 72/72 [00:45<00:00,  1.57it/s, loss=9.81]\n",
            "[2024-05-13 03:40:24,813][__main__][INFO] - Epoch: 48, Average Val loss: 16.01134672631376\n",
            "100% 224/224 [05:14<00:00,  1.40s/it, loss=18.1]\n",
            "[2024-05-13 03:45:39,138][__main__][INFO] - Epoch: 49, Average Train loss: 14.354546078737142\n",
            "100% 72/72 [00:45<00:00,  1.59it/s, loss=10]\n",
            "[2024-05-13 03:46:24,457][__main__][INFO] - Epoch: 49, Average Val loss: 14.753570187782787\n",
            "[2024-05-13 03:46:24,461][__main__][INFO] -  Reached to 50 epoch \n",
            "\n"
          ]
        }
      ]
    },
    {
      "cell_type": "markdown",
      "source": [
        "###Test Model\n",
        "\n",
        "Remember to modify config/config.yml before running. Rename test_config.yml to config.yml (If it doesn't exist, then it's already renamed most probably.\n",
        "\n",
        "NOTE: Visualizations cause issues, so don't save results. Def a limitation for now."
      ],
      "metadata": {
        "id": "m9fHFnlqKyGm"
      }
    },
    {
      "cell_type": "code",
      "source": [],
      "metadata": {
        "colab": {
          "base_uri": "https://localhost:8080/"
        },
        "id": "gPfBjCwIn9-u",
        "outputId": "5509012c-98c3-4084-c719-65010e690f54"
      },
      "execution_count": null,
      "outputs": [
        {
          "output_type": "stream",
          "name": "stdout",
          "text": [
            "/content/gdrive/MyDrive/Project/cs674-keypoint-estimation\n"
          ]
        }
      ]
    },
    {
      "cell_type": "code",
      "source": [
        "!python3 test.py"
      ],
      "metadata": {
        "colab": {
          "base_uri": "https://localhost:8080/"
        },
        "id": "ANywDQiMKxyd",
        "outputId": "743c5988-b8a2-49d2-c584-59577c426f33"
      },
      "execution_count": null,
      "outputs": [
        {
          "output_type": "stream",
          "name": "stdout",
          "text": [
            "2024-05-07 21:50:01.515076: E external/local_xla/xla/stream_executor/cuda/cuda_dnn.cc:9261] Unable to register cuDNN factory: Attempting to register factory for plugin cuDNN when one has already been registered\n",
            "2024-05-07 21:50:01.515147: E external/local_xla/xla/stream_executor/cuda/cuda_fft.cc:607] Unable to register cuFFT factory: Attempting to register factory for plugin cuFFT when one has already been registered\n",
            "2024-05-07 21:50:01.517066: E external/local_xla/xla/stream_executor/cuda/cuda_blas.cc:1515] Unable to register cuBLAS factory: Attempting to register factory for plugin cuBLAS when one has already been registered\n",
            "2024-05-07 21:50:02.589665: W tensorflow/compiler/tf2tensorrt/utils/py_utils.cc:38] TF-TRT Warning: Could not find TensorRT\n",
            "[2024-05-07 21:50:10,026][__main__][INFO] - Paper: SC3K -- Self-supervised and Coherent 3D Keypoints Estimation from Rotated,\n",
            "  Noisy, and Decimated Point Cloud Data (ICCV-2023)\n",
            "split: test\n",
            "task: generic\n",
            "key_points: 10\n",
            "batch_size: 1\n",
            "max_epoch: 20\n",
            "num_workers: 6\n",
            "class_name: airplane\n",
            "overlap_threshold: 0.05\n",
            "save_results: false\n",
            "parameters:\n",
            "  separation: 1\n",
            "  overlap: 1\n",
            "  shape: 6\n",
            "  consist: 1\n",
            "  volume: 1\n",
            "  pose: 0.07\n",
            "augmentation:\n",
            "  translation: false\n",
            "  rot_gravity: false\n",
            "  normalize_pc: true\n",
            "  gaussian_noise: false\n",
            "  down_sample: false\n",
            "  uniform_sampling: false\n",
            "lamda: 0\n",
            "lamda2: 0\n",
            "sample_points: 2048\n",
            "data:\n",
            "  annot_path: dataset/annotations/airplane.json\n",
            "  pcd_root: dataset/pcds\n",
            "  splits_root: dataset/splits\n",
            "  poses_root: dataset/poses\n",
            "  best_model_path: train/airplane/Best_airplane_10kp.pth\n",
            "\n",
            "loaded 1022 samples of categories:  ['02691156']\n",
            "Loading test data, please wait\n",
            "\n",
            "100% 13/13 [00:02<00:00,  5.11it/s]\n",
            "\n",
            "\n",
            "Please wait, arranging the data\n",
            "\n",
            "\n",
            "\n",
            "\n",
            "loaded data contains: \n",
            "  * camera_param 1: 312\n",
            "  * camera_param 2: 312\n",
            "  * transformed_pcds 1: 312\n",
            "  * transformed_pcds 2: 312\n",
            "  * mesh_names: 312\n",
            "\n",
            "\n",
            "  0% 0/312 [00:00<?, ?it/s]/usr/lib/python3.10/multiprocessing/popen_fork.py:66: RuntimeWarning: os.fork() was called. os.fork() is incompatible with multithreaded code, and JAX is multithreaded, so this will likely lead to a deadlock.\n",
            "  self.pid = os.fork()\n",
            "100% 312/312 [00:41<00:00,  7.60it/s]\n",
            "[2024-05-07 21:51:00,987][__main__][INFO] - Avg. coverage_useek: 68.92\n",
            "[2024-05-07 21:51:00,988][__main__][INFO] - Avg. inclusivity_useek: 93.49\n",
            "[2024-05-07 21:51:00,988][__main__][INFO] - Avg. DAS_unsup: 11.29\n",
            "[2024-05-07 21:51:00,989][__main__][INFO] - Avg. pose_error: mean: 66.83993088412545 median: 26.770178174853324\n"
          ]
        }
      ]
    }
  ]
}